{
 "cells": [
  {
   "cell_type": "code",
   "execution_count": 4,
   "metadata": {},
   "outputs": [
    {
     "name": "stdout",
     "output_type": "stream",
     "text": [
      "no change     /anaconda/condabin/conda\r\n",
      "no change     /anaconda/bin/conda\r\n",
      "no change     /anaconda/bin/conda-env\r\n",
      "no change     /anaconda/bin/activate\r\n",
      "no change     /anaconda/bin/deactivate\r\n",
      "no change     /anaconda/etc/profile.d/conda.sh\r\n",
      "no change     /anaconda/etc/fish/conf.d/conda.fish\r\n",
      "no change     /anaconda/shell/condabin/Conda.psm1\r\n",
      "no change     /anaconda/shell/condabin/conda-hook.ps1\r\n",
      "no change     /anaconda/lib/python3.8/site-packages/xontrib/conda.xsh\r\n",
      "no change     /anaconda/etc/profile.d/conda.csh\r\n",
      "no change     /home/azureuser/.bashrc\r\n",
      "No action taken.\r\n"
     ]
    }
   ],
   "source": [
    "!conda create -n virtenv python=3.8 -y & conda init bash"
   ]
  },
  {
   "cell_type": "code",
   "execution_count": null,
   "metadata": {},
   "outputs": [],
   "source": [
    "!pip3 install pandas_datareader\n"
   ]
  },
  {
   "cell_type": "markdown",
   "metadata": {},
   "source": [
    "# Algorithmic trading with Keras\n",
    "\n",
    "The goal of this notebook is to provide the necessary notions to perform time-series forecasting on financial data using the library Keras for Deep Learning. In particular, we will use two models involving LSTM recurrent neural networks and 1-dimensional convolutions to develop an investment strategy for the S&P 500 index.\n",
    "\n",
    "We will test that, in a period of four years that includes the 2008 crisis, these deep learning strategies performed far better than the buy and hold strategy (stay always in the market) and the moving average strategy (stay in the market when the current price is greater than the moving average of the past 12 months and sell when it becomes smaller). To quantify these performances, we will compute the gross and net yield (considering the tax on capital gain and the fee to the broker at each transaction).\n",
    "\n",
    "Throughout this notebook we will use the main libraries for machine learning in Python: *Pandas*, *Numpy*, *Scikit-learn*, *Keras*, and *Matplotlib*.\n",
    "\n",
    "\n",
    "Note: investing in financial markets is very complicated and should only be done by experienced people. The author declines all responsibility for any losses."
   ]
  },
  {
   "cell_type": "code",
   "execution_count": null,
   "metadata": {
    "scrolled": true
   },
   "outputs": [],
   "source": [
    "import pandas as pd\n",
    "import numpy as np\n",
    "import datetime\n",
    "import time\n",
    "import matplotlib.pyplot as plt\n",
    "from pandas_datareader import data as pdr\n",
    "\n",
    "import keras\n",
    "from keras.models import Sequential\n",
    "from keras.optimizers import RMSprop,Adam\n",
    "from keras.layers import Dense,Dropout,BatchNormalization,Conv1D,Flatten,MaxPooling1D,LSTM\n",
    "from keras.callbacks import EarlyStopping,ModelCheckpoint,TensorBoard,ReduceLROnPlateau\n",
    "from keras.wrappers.scikit_learn import KerasRegressor\n",
    "from keras.models import load_model\n",
    "from sklearn.preprocessing import MinMaxScaler"
   ]
  },
  {
   "cell_type": "markdown",
   "metadata": {},
   "source": [
    "The notebook is divided in four parts, in which we will learn the following skills:\n",
    "- [Download and manage financial data](#get_the_data): use *Pandas* to download S&P 500 data from Yahoo Finance and manage it, computing the moving averages\n",
    "- [Define functions to compute gross and net yield](#compute_yield): use *Numpy* to define functions to compute gross and net yields in a clear and vectorized way\n",
    "- [Define and train the two Deep Learning models](#train_models): use *Scikit-learn* to preprocess the data and define and train the Deep Learning models with *Keras*\n",
    "- [Define a simple Deep Learning trading strategy and compare it with other ones](#compare): use *Matplotlib* to visualize the data and the portfolio growth\n",
    "\n",
    "We will keep the investing strategy as simple and effective as possible. First, we will forecast the S&P 500 index on a monthly base, predicting at the first trading day of each month what will be the value of the index for the next month. Then, at the beginning of each month, based on our prediction, we will decide whether to \"stay in the market\" (i.e., invest in the index) or not. "
   ]
  },
  {
   "cell_type": "markdown",
   "metadata": {},
   "source": [
    "<a id='get_the_data'></a>\n",
    "## Download and Manage Financial Data\n",
    "\n",
    "We download the data of the S&P 500 index from Yahoo Finance. Our analysis is monthly-based, and all the decisions are made the first trading day of the month. For this reason, we fix the convention that *start_date* will always be the first day of a month and *end_date* will always be the last day of a month.\n",
    "\n",
    "Our analysis will start from 24 months after the month of *start_date*, since we will use the first 24 months to produce the two-years moving average."
   ]
  },
  {
   "cell_type": "code",
   "execution_count": null,
   "metadata": {},
   "outputs": [],
   "source": [
    "start_date=datetime.datetime(1973, 1, 1)\n",
    "end_date=datetime.datetime(2021,2,28)"
   ]
  },
  {
   "cell_type": "code",
   "execution_count": null,
   "metadata": {},
   "outputs": [],
   "source": [
    "df = pdr.get_data_yahoo('^GSPC', start=start_date, end=end_date)\n",
    "df.drop(\"Adj Close\",axis=1,inplace=True)\n",
    "print(df.tail())"
   ]
  },
  {
   "cell_type": "markdown",
   "metadata": {},
   "source": [
    "We need the list of the first trading day for each month, so we compute it:"
   ]
  },
  {
   "cell_type": "code",
   "execution_count": null,
   "metadata": {},
   "outputs": [],
   "source": [
    "start_year=start_date.year\n",
    "start_month=start_date.month\n",
    "end_year=end_date.year\n",
    "end_month=end_date.month\n",
    "\n",
    "first_days=[]\n",
    "# First year\n",
    "for month in range(start_month,13):\n",
    "    first_days.append(min(df[str(start_year)+\"-\"+str(month)].index))\n",
    "# Other years\n",
    "for year in range(start_year+1,end_year):\n",
    "    for month in range(1,13):\n",
    "        first_days.append(min(df[str(year)+\"-\"+str(month)].index))\n",
    "# Last year\n",
    "for month in range(1,end_month+1):\n",
    "    first_days.append(min(df[str(end_year)+\"-\"+str(month)].index))"
   ]
  },
  {
   "cell_type": "markdown",
   "metadata": {},
   "source": [
    "For each month we need the means of the month, the first trading day of the current month (and its open price), and the first trading day of the next month (and its open price): our models will predict based on these data.\n",
    "\n",
    "The feature *quot* is the quotient between the open price of the first trading day of the next month and the open price of the first trading day of the current month. It will be useful because it gives the variation of the portfolio for the current month.\n",
    "\n",
    "Finally we add the columns corresponding to the moving averages at 1 and 2 years."
   ]
  },
  {
   "cell_type": "code",
   "execution_count": null,
   "metadata": {},
   "outputs": [],
   "source": [
    "def monthly_df(df):\n",
    "\n",
    "    dfm=df.resample(\"M\").mean()\n",
    "    dfm=dfm[:-1] # As we said, we do not consider the month of end_date\n",
    "    \n",
    "    dfm[\"fd_cm\"]=first_days[:-1]\n",
    "    dfm[\"fd_nm\"]=first_days[1:]\n",
    "    dfm[\"fd_cm_open\"]=np.array(df.loc[first_days[:-1],\"Open\"])\n",
    "    dfm[\"fd_nm_open\"]=np.array(df.loc[first_days[1:],\"Open\"])\n",
    "    dfm[\"quot\"]=dfm[\"fd_nm_open\"].divide(dfm[\"fd_cm_open\"])\n",
    "    \n",
    "    dfm[\"mv_avg_12\"]= dfm[\"Open\"].rolling(window=12).mean().shift(1)\n",
    "    dfm[\"mv_avg_24\"]= dfm[\"Open\"].rolling(window=24).mean().shift(1)\n",
    "    \n",
    "    dfm=dfm.iloc[24:,:] # we remove the first 24 months, since they do not have the 2-year moving average\n",
    "    \n",
    "    return dfm"
   ]
  },
  {
   "cell_type": "code",
   "execution_count": null,
   "metadata": {},
   "outputs": [],
   "source": [
    "dfm=monthly_df(df)\n",
    "\n",
    "print(dfm.head())\n",
    "print(dfm.tail())\n",
    "\n",
    "#each month of dfm contains the moving averages of the previous 12 and 24 months (excluding the current month)\n",
    "print(dfm.loc[\"1980-03\",\"mv_avg_12\"])\n",
    "print(dfm.loc[\"1979-03\":\"1980-02\",\"Open\"])\n",
    "print(dfm.loc[\"1979-03\":\"1980-02\",\"Open\"].mean())"
   ]
  },
  {
   "cell_type": "markdown",
   "metadata": {},
   "source": [
    "<a id='compute_yield'></a>\n",
    "## Define Functions to Compute Gross and Net Yield\n",
    "\n",
    "Notice that the gross yield can be computed very easily using the feature *quot* of the dataframe.\n",
    "In the following function, the vector *v* selects which months we are going to stay in the market."
   ]
  },
  {
   "cell_type": "code",
   "execution_count": null,
   "metadata": {},
   "outputs": [],
   "source": [
    "def yield_gross(df,v):\n",
    "    prod=(v*df[\"quot\"]+1-v).prod()\n",
    "    n_years=len(v)/12\n",
    "    return (prod-1)*100,((prod**(1/n_years))-1)*100"
   ]
  },
  {
   "cell_type": "markdown",
   "metadata": {},
   "source": [
    "We now need to define a function to compute the net yield, considering (as it is by the Italian law) a 26% tax on capital gain and 0.10% commission to the broker at each transaction. Clearly these values can be changed to adapt the function to the tax system of other countries. "
   ]
  },
  {
   "cell_type": "code",
   "execution_count": null,
   "metadata": {},
   "outputs": [],
   "source": [
    "tax_cg=0.26\n",
    "comm_bk=0.001"
   ]
  },
  {
   "cell_type": "markdown",
   "metadata": {},
   "source": [
    "The following function will be used to compute the net yield.\n",
    "\n",
    "Given any vector of zeros and ones as input, *separate_ones* will return the sequence of vectors of groups of adjacent ones and a scalar equal to the number of groups of adjacent ones."
   ]
  },
  {
   "cell_type": "code",
   "execution_count": null,
   "metadata": {},
   "outputs": [],
   "source": [
    "def separate_ones(u):\n",
    "    \n",
    "    u_ = np.r_[0,u,0]\n",
    "    i = np.flatnonzero(u_[:-1] != u_[1:])\n",
    "    v,w = i[::2],i[1::2]\n",
    "    if len(v)==0:\n",
    "        return np.zeros(len(u)),0\n",
    "    \n",
    "    n,m = len(v),len(u)\n",
    "    o = np.zeros(n*m,dtype=int)\n",
    "\n",
    "    r = np.arange(n)*m\n",
    "    o[v+r] = 1\n",
    "\n",
    "    if w[-1] == m:\n",
    "        o[w[:-1]+r[:-1]] = -1\n",
    "    else:\n",
    "        o[w+r] -= 1\n",
    "\n",
    "    out = o.cumsum().reshape(n,-1)\n",
    "    return out,n"
   ]
  },
  {
   "cell_type": "markdown",
   "metadata": {},
   "source": [
    "Let us clarify the behavior of this function with an example:"
   ]
  },
  {
   "cell_type": "code",
   "execution_count": null,
   "metadata": {},
   "outputs": [],
   "source": [
    "u=np.array([0,1,1,0,1,1,1,0,1])"
   ]
  },
  {
   "cell_type": "code",
   "execution_count": null,
   "metadata": {},
   "outputs": [],
   "source": [
    "separate_ones(u)"
   ]
  },
  {
   "cell_type": "markdown",
   "metadata": {},
   "source": [
    "The following function is the one that we will use to compute the net yield.\n",
    "\n",
    "Again, the vector *v* selects which months we are going to stay in the market."
   ]
  },
  {
   "cell_type": "code",
   "execution_count": null,
   "metadata": {},
   "outputs": [],
   "source": [
    "def yield_net(df,v):\n",
    "    n_years=len(v)/12\n",
    "    \n",
    "    w,n=separate_ones(v)\n",
    "    A=(w*np.array(df[\"quot\"])+(1-w)).prod(axis=1)  # A is the product of each group of ones of 1 for df[\"quot\"]\n",
    "    A1p=np.maximum(0,np.sign(A-1)) # vector of ones where the corresponding element if  A  is > 1, other are 0\n",
    "    Ap=A*A1p # vector of elements of A > 1, other are 0\n",
    "    Am=A-Ap # vector of elements of A <= 1, other are 0\n",
    "    An=Am+(Ap-A1p)*(1-tax_cg)+A1p\n",
    "    prod=An.prod()*((1-comm_bk)**(2*n)) \n",
    "    \n",
    "    return (prod-1)*100,((prod**(1/n_years))-1)*100   "
   ]
  },
  {
   "cell_type": "markdown",
   "metadata": {},
   "source": [
    "<a id='train_models'></a>\n",
    "## Define and Train the Two Deep Learning Models\n",
    "\n",
    "We will use two deep learning models to forecast the S&P 500 index: one, called *model_lstm*, which will be composed of LSTM recurrent neural networks, and one called *model_mix*, which will be composed of both LSTM and one-dimensional convolutional layers.\n",
    "\n",
    "The first step will be to preprocess the financial data we acquired. In particular we will:\n",
    "- create a window of data; recurrent neural networks take sequences as inputs and we will reshape the data accordingly. In particular, we will input to the model all data corresponding to the past six months. \n",
    "- scale the financial data in a range from 0 to 1, since recurrent neural networks work best with such data.\n",
    "- divide the data into a train set and a test set; the latter will be the set on which we will compare the trading strategies. By default we will set this set to be 72 months long.\n",
    "\n",
    "**Both our models will predict the value of the S&P 500 index for the first trading day of the following month, given all data of the past six months.**"
   ]
  },
  {
   "cell_type": "code",
   "execution_count": null,
   "metadata": {},
   "outputs": [],
   "source": [
    "def create_window(data, window_size = 1):    \n",
    "    data_s = data.copy()\n",
    "    for i in range(window_size):\n",
    "        data = pd.concat([data, data_s.shift(-(i + 1))], axis = 1)\n",
    "        \n",
    "    data.dropna(axis=0, inplace=True)\n",
    "    return(data)"
   ]
  },
  {
   "cell_type": "code",
   "execution_count": null,
   "metadata": {},
   "outputs": [],
   "source": [
    "def data_to_model(dfm):\n",
    "    scaler=MinMaxScaler(feature_range=(0,1))\n",
    "    dg=pd.DataFrame(scaler.fit_transform(dfm[[\"High\",\"Low\",\"Open\",\"Close\",\"Volume\",\"fd_cm_open\",\\\n",
    "                                          \"mv_avg_12\",\"mv_avg_24\",\"fd_nm_open\"]].values))\n",
    "    X=dg[[0,1,2,3,4,5,6,7]]\n",
    "    X=create_window(X,window)\n",
    "    X=np.reshape(X.values,(X.shape[0],window+1,8))\n",
    "    \n",
    "    y=np.array(dg[8][window:])\n",
    "    \n",
    "    return X,y"
   ]
  },
  {
   "cell_type": "markdown",
   "metadata": {},
   "source": [
    "The input data for the model will be a tensor of shape: \n",
    "\n",
    "(# months, window +1, # features)\n",
    "\n",
    "The output data of the model will be a single vector of length # months:"
   ]
  },
  {
   "cell_type": "code",
   "execution_count": null,
   "metadata": {},
   "outputs": [],
   "source": [
    "window=5\n",
    "\n",
    "X,y=data_to_model(dfm)\n",
    "print(X.shape,y.shape)"
   ]
  },
  {
   "cell_type": "code",
   "execution_count": null,
   "metadata": {},
   "outputs": [],
   "source": [
    "mtest=72\n",
    "\n",
    "X_train=X[:-mtest-1,:,:]\n",
    "X_test=X[-mtest-1:,:,:]\n",
    "y_train=y[:-mtest-1]\n",
    "y_test=y[-mtest-1:]"
   ]
  },
  {
   "cell_type": "code",
   "execution_count": null,
   "metadata": {},
   "outputs": [],
   "source": [
    "def model_lstm(window,features):\n",
    "    \n",
    "    model=Sequential()\n",
    "    model.add(LSTM(300, input_shape = (window,features), return_sequences=True))\n",
    "    model.add(Dropout(0.5))\n",
    "    model.add(LSTM(200,  return_sequences=False)) # there is no need to specify input_shape here\n",
    "    model.add(Dropout(0.5))\n",
    "    model.add(Dense(100,kernel_initializer='uniform',activation='relu'))        \n",
    "    model.add(Dense(1,kernel_initializer='uniform',activation='relu'))\n",
    "    model.compile(loss='mse',optimizer=Adam(lr=0.001))\n",
    "    \n",
    "    \n",
    "    return model"
   ]
  },
  {
   "cell_type": "code",
   "execution_count": null,
   "metadata": {},
   "outputs": [],
   "source": [
    "def model_mix(window,features):\n",
    "    \n",
    "    model=Sequential()\n",
    "    model.add(Conv1D(input_shape=(window,features),filters=32,kernel_size=2,strides=1,activation='relu',padding='same'))\n",
    "    model.add(Conv1D(filters=64,kernel_size=2,strides=1,activation='relu',padding='same'))\n",
    "    model.add(LSTM(300, return_sequences=True))\n",
    "    model.add(Dropout(0.5))\n",
    "    model.add(LSTM(200,  return_sequences=False))\n",
    "    model.add(Dropout(0.5))\n",
    "    model.add(Dense(100,kernel_initializer='uniform',activation='relu'))        \n",
    "    model.add(Dense(1,kernel_initializer='uniform',activation='relu'))\n",
    "    model.compile(loss='mse',optimizer=Adam(lr=0.001))\n",
    "    \n",
    "    \n",
    "    return model"
   ]
  },
  {
   "cell_type": "code",
   "execution_count": null,
   "metadata": {},
   "outputs": [],
   "source": [
    "model_lstm=model_lstm(window+1,8)\n",
    "print(model_lstm.summary())"
   ]
  },
  {
   "cell_type": "markdown",
   "metadata": {},
   "source": [
    "We will use the following Keras callback to reduce the learning rate as the training progresses:"
   ]
  },
  {
   "cell_type": "code",
   "execution_count": null,
   "metadata": {},
   "outputs": [],
   "source": [
    "learning_rate_reduction = ReduceLROnPlateau(monitor='val_loss', patience=25, verbose=1,\\\n",
    "                                                 factor=0.25, min_lr=0.00001)"
   ]
  },
  {
   "cell_type": "markdown",
   "metadata": {},
   "source": [
    "Here, we can start the training for 400 epochs:"
   ]
  },
  {
   "cell_type": "code",
   "execution_count": 3,
   "metadata": {},
   "outputs": [
    {
     "ename": "NameError",
     "evalue": "name 'model_lstm' is not defined",
     "output_type": "error",
     "traceback": [
      "\u001b[0;31m---------------------------------------------------------------------------\u001b[0m",
      "\u001b[0;31mNameError\u001b[0m                                 Traceback (most recent call last)",
      "\u001b[0;32m<ipython-input-3-b3f3633cbc11>\u001b[0m in \u001b[0;36m<module>\u001b[0;34m\u001b[0m\n\u001b[1;32m      1\u001b[0m \u001b[0;31m# due demonstration times, lets use only 50 epochs.\u001b[0m\u001b[0;34m\u001b[0m\u001b[0;34m\u001b[0m\u001b[0;34m\u001b[0m\u001b[0m\n\u001b[1;32m      2\u001b[0m \u001b[0;34m\u001b[0m\u001b[0m\n\u001b[0;32m----> 3\u001b[0;31m history_lstm=model_lstm.fit(X_train,y_train,epochs=50, batch_size=24, validation_data=(X_test, y_test), \\\n\u001b[0m\u001b[1;32m      4\u001b[0m                   verbose=1, callbacks=[learning_rate_reduction],shuffle=False)\n",
      "\u001b[0;31mNameError\u001b[0m: name 'model_lstm' is not defined"
     ]
    }
   ],
   "source": [
    "# due demonstration times, lets use only 50 epochs.\n",
    "\n",
    "history_lstm=model_lstm.fit(X_train,y_train,epochs=50, batch_size=24, validation_data=(X_test, y_test), \\\n",
    "                  verbose=1, callbacks=[learning_rate_reduction],shuffle=False)"
   ]
  },
  {
   "cell_type": "markdown",
   "metadata": {},
   "source": [
    "In the following plot, we can visualize the train and test losses as the training progresses:"
   ]
  },
  {
   "cell_type": "code",
   "execution_count": null,
   "metadata": {},
   "outputs": [],
   "source": [
    "plt.plot(history_lstm.history['loss'])\n",
    "plt.plot(history_lstm.history['val_loss'])\n",
    "plt.title('model loss')\n",
    "plt.ylabel('loss')\n",
    "plt.xlabel('epoch')\n",
    "plt.legend(['train', 'test'], loc='upper right')\n",
    "plt.show()"
   ]
  },
  {
   "cell_type": "code",
   "execution_count": null,
   "metadata": {},
   "outputs": [],
   "source": [
    "model_lstm.save_weights(\"lstm_weights.h5\")"
   ]
  },
  {
   "cell_type": "code",
   "execution_count": null,
   "metadata": {},
   "outputs": [],
   "source": [
    "model_mix=model_mix(window+1,8)\n",
    "print(model_mix.summary())"
   ]
  },
  {
   "cell_type": "markdown",
   "metadata": {},
   "source": [
    "Here, we can start the training for 400 epochs:"
   ]
  },
  {
   "cell_type": "code",
   "execution_count": null,
   "metadata": {},
   "outputs": [],
   "source": [
    "history_mix=model_mix.fit(X_train,y_train,epochs=50, batch_size=24, validation_data=(X_test, y_test), \\\n",
    "                  verbose=1, callbacks=[learning_rate_reduction],shuffle=False)"
   ]
  },
  {
   "cell_type": "markdown",
   "metadata": {},
   "source": [
    "In the following plot, we can visualize the train and test losses as the training progresses:"
   ]
  },
  {
   "cell_type": "code",
   "execution_count": null,
   "metadata": {},
   "outputs": [],
   "source": [
    "plt.plot(history_mix.history['loss'])\n",
    "plt.plot(history_mix.history['val_loss'])\n",
    "plt.title('model loss')\n",
    "plt.ylabel('loss')\n",
    "plt.xlabel('epoch')\n",
    "plt.legend(['train', 'test'], loc='upper right')\n",
    "plt.show()"
   ]
  },
  {
   "cell_type": "code",
   "execution_count": null,
   "metadata": {},
   "outputs": [],
   "source": [
    "model_mix.save_weights(\"mix_weights.h5\")"
   ]
  },
  {
   "cell_type": "code",
   "execution_count": null,
   "metadata": {},
   "outputs": [],
   "source": [
    "y_pred_train_lstm=model_lstm.predict(X_train)\n",
    "y_pred_train_mix=model_mix.predict(X_train)"
   ]
  },
  {
   "cell_type": "code",
   "execution_count": null,
   "metadata": {},
   "outputs": [],
   "source": [
    "plt.figure(figsize=(30,10))\n",
    "plt.plot(y_train, label=\"actual\")\n",
    "plt.plot(y_pred_train_lstm, label=\"prediction by lstm model\")\n",
    "plt.plot(y_pred_train_mix, label=\"prediction by mix model\")\n",
    "plt.legend(fontsize=20)\n",
    "plt.grid(axis=\"both\")\n",
    "plt.title(\"Actual open price and pedicted one on train set\",fontsize=25)\n",
    "plt.show()"
   ]
  },
  {
   "cell_type": "markdown",
   "metadata": {},
   "source": [
    "<a id='compare'></a>\n",
    "## Define a Simple Deep Learning Trading Strategy and Compare It with Other Ones\n",
    "\n",
    "Now that we have defined and trained our deep learning forecasting models, we can develop our investing strategy.\n",
    "The first thing to do will be to predict the value of the S&P 500 index for the next month on the test-set."
   ]
  },
  {
   "cell_type": "code",
   "execution_count": null,
   "metadata": {},
   "outputs": [],
   "source": [
    "y_pred_lstm=model_lstm.predict(X_test)\n",
    "y_pred_mix=model_mix.predict(X_test)"
   ]
  },
  {
   "cell_type": "markdown",
   "metadata": {},
   "source": [
    "Our trading strategy will be the simplest one possible: \n",
    "\n",
    "**We stay in the market when the predicted price for the next month is greater than the current price and stay out otherwise. The vectors v indicate the \"in months\" (as 1s) and \"out months\" (as 0s)**"
   ]
  },
  {
   "cell_type": "code",
   "execution_count": null,
   "metadata": {},
   "outputs": [],
   "source": [
    "w_lstm=np.diff(y_pred_lstm.reshape(y_pred_lstm.shape[0]),1)\n",
    "v_lstm=np.maximum(np.sign(w_lstm),0)\n",
    "\n",
    "w_mix=np.diff(y_pred_mix.reshape(y_pred_mix.shape[0]),1)\n",
    "v_mix=np.maximum(np.sign(w_mix),0)"
   ]
  },
  {
   "cell_type": "markdown",
   "metadata": {},
   "source": [
    "Here, we plot the in and out months for each month in the test-set."
   ]
  },
  {
   "cell_type": "code",
   "execution_count": null,
   "metadata": {},
   "outputs": [],
   "source": [
    "plt.figure(figsize=(30,10))\n",
    "plt.plot(y_test, label=\"actual\")\n",
    "plt.plot(y_pred_lstm, label=\"prediction lstm\")\n",
    "plt.plot(v_lstm,label=\"In and out lstm\")\n",
    "plt.plot(y_pred_mix, label=\"prediction mix\")\n",
    "plt.plot(v_mix,label=\"In and out mix\")\n",
    "plt.legend(fontsize=20)\n",
    "plt.grid(axis=\"both\")\n",
    "plt.title(\"Actual open price, predicted ones and vectors on in and out moments\",fontsize=25)\n",
    "plt.show()"
   ]
  },
  {
   "cell_type": "markdown",
   "metadata": {},
   "source": [
    "**The preceeding plot shows an interesting feature of the prediction of our models: they are quite good at predicting the sign of the first derivative of the index, and this is exactly what we need for our trading strategy!** \n",
    "\n",
    "Now we can compare our deep learning trading strategies with the buy and hold strategy and the moving average strategy. In order to do so, we compute the corresponding vectors *v_bh* and *v_ma*, which select the months in which we are going to stay in the market."
   ]
  },
  {
   "cell_type": "code",
   "execution_count": null,
   "metadata": {},
   "outputs": [],
   "source": [
    "test=dfm.iloc[-mtest:,:] \n",
    "v_bh=np.ones(test.shape[0])\n",
    "v_ma=test[\"fd_cm_open\"]>test[\"mv_avg_12\"]"
   ]
  },
  {
   "cell_type": "code",
   "execution_count": null,
   "metadata": {},
   "outputs": [],
   "source": [
    "def gross_portfolio(df,w):\n",
    "    portfolio=[ (w*df[\"quot\"]+(1-w))[:i].prod() for i in range(len(w))]\n",
    "    return portfolio"
   ]
  },
  {
   "cell_type": "code",
   "execution_count": null,
   "metadata": {},
   "outputs": [],
   "source": [
    "plt.figure(figsize=(30,10))\n",
    "plt.plot(gross_portfolio(test,v_bh),label=\"Portfolio Buy and Hold\")\n",
    "plt.plot(gross_portfolio(test,v_ma),label=\"Portfolio Moving Average\")\n",
    "plt.plot(gross_portfolio(test,v_lstm),label=\"Portfolio LSTM\")\n",
    "plt.plot(gross_portfolio(test,v_mix),label=\"Portfolio Mix\")\n",
    "plt.legend(fontsize=20)\n",
    "plt.grid(axis=\"both\")\n",
    "plt.title(\"Gross portfolios of three methods\", fontsize=25)\n",
    "plt.show()"
   ]
  },
  {
   "cell_type": "markdown",
   "metadata": {},
   "source": [
    "Finally, we can see that our deep learning investing strategies performed far better on the test-set than the other two classical investing strategies."
   ]
  },
  {
   "cell_type": "code",
   "execution_count": null,
   "metadata": {},
   "outputs": [],
   "source": [
    "print(\"Test period of {:.2f} years, from {} to {} \\n\".format(len(v_bh)/12,str(test.loc[test.index[0],\"fd_cm\"])[:10],\\\n",
    "      str(test.loc[test.index[-1],\"fd_nm\"])[:10]))\n",
    "\n",
    "results=pd.DataFrame({})\n",
    "results[\"Method\"]=[\"Buy and hold\",\"Moving average\",\"LSTM\",\"Mix\"]\n",
    "\n",
    "vs=[v_bh,v_ma,v_lstm,v_mix]\n",
    "results[\"Total gross yield\"]=[str(round(yield_gross(test,vi)[0],2))+\" %\" for vi in vs]\n",
    "results[\"Annual gross yield\"]=[str(round(yield_gross(test,vi)[1],2))+\" %\" for vi in vs]\n",
    "results[\"Total net yield\"]=[str(round(yield_net(test,vi)[0],2))+\" %\" for vi in vs]\n",
    "results[\"Annual net yield\"]=[str(round(yield_net(test,vi)[1],2))+\" %\" for vi in vs]\n",
    "\n",
    "print(results)"
   ]
  }
 ],
 "metadata": {
  "kernelspec": {
   "display_name": "Python 3.8.8 64-bit ('virtenv': conda)",
   "language": "python",
   "name": "python388jvsc74a57bd0351b7adaf2ccc0f77fd54f59eb1610a2f86ff49799c5f6a4ff878ccc224ea09e"
  },
  "language_info": {
   "codemirror_mode": {
    "name": "ipython",
    "version": 3
   },
   "file_extension": ".py",
   "mimetype": "text/x-python",
   "name": "python",
   "nbconvert_exporter": "python",
   "pygments_lexer": "ipython3",
   "version": "3.8.8"
  }
 },
 "nbformat": 4,
 "nbformat_minor": 4
}
